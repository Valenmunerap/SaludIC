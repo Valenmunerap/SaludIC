{
 "cells": [
  {
   "attachments": {},
   "cell_type": "markdown",
   "metadata": {},
   "source": [
    "## Redes Neuronales"
   ]
  },
  {
   "attachments": {},
   "cell_type": "markdown",
   "metadata": {},
   "source": [
    "Cargas librerías"
   ]
  },
  {
   "cell_type": "code",
   "execution_count": 1,
   "metadata": {},
   "outputs": [
    {
     "name": "stdout",
     "output_type": "stream",
     "text": [
      "Requirement already satisfied: tensorflow in c:\\python311\\lib\\site-packages (2.12.0)\n",
      "Requirement already satisfied: tensorflow-intel==2.12.0 in c:\\python311\\lib\\site-packages (from tensorflow) (2.12.0)\n",
      "Requirement already satisfied: absl-py>=1.0.0 in c:\\python311\\lib\\site-packages (from tensorflow-intel==2.12.0->tensorflow) (1.4.0)\n",
      "Requirement already satisfied: astunparse>=1.6.0 in c:\\python311\\lib\\site-packages (from tensorflow-intel==2.12.0->tensorflow) (1.6.3)\n",
      "Requirement already satisfied: flatbuffers>=2.0 in c:\\python311\\lib\\site-packages (from tensorflow-intel==2.12.0->tensorflow) (23.3.3)\n",
      "Requirement already satisfied: gast<=0.4.0,>=0.2.1 in c:\\python311\\lib\\site-packages (from tensorflow-intel==2.12.0->tensorflow) (0.4.0)\n",
      "Requirement already satisfied: google-pasta>=0.1.1 in c:\\python311\\lib\\site-packages (from tensorflow-intel==2.12.0->tensorflow) (0.2.0)\n",
      "Requirement already satisfied: h5py>=2.9.0 in c:\\python311\\lib\\site-packages (from tensorflow-intel==2.12.0->tensorflow) (3.8.0)\n",
      "Requirement already satisfied: jax>=0.3.15 in c:\\python311\\lib\\site-packages (from tensorflow-intel==2.12.0->tensorflow) (0.4.8)\n",
      "Requirement already satisfied: libclang>=13.0.0 in c:\\python311\\lib\\site-packages (from tensorflow-intel==2.12.0->tensorflow) (16.0.0)\n",
      "Requirement already satisfied: numpy<1.24,>=1.22 in c:\\python311\\lib\\site-packages (from tensorflow-intel==2.12.0->tensorflow) (1.23.5)\n",
      "Requirement already satisfied: opt-einsum>=2.3.2 in c:\\python311\\lib\\site-packages (from tensorflow-intel==2.12.0->tensorflow) (3.3.0)\n",
      "Requirement already satisfied: packaging in c:\\python311\\lib\\site-packages (from tensorflow-intel==2.12.0->tensorflow) (21.3)\n",
      "Requirement already satisfied: protobuf!=4.21.0,!=4.21.1,!=4.21.2,!=4.21.3,!=4.21.4,!=4.21.5,<5.0.0dev,>=3.20.3 in c:\\python311\\lib\\site-packages (from tensorflow-intel==2.12.0->tensorflow) (3.20.3)\n",
      "Requirement already satisfied: setuptools in c:\\python311\\lib\\site-packages (from tensorflow-intel==2.12.0->tensorflow) (65.5.0)\n",
      "Requirement already satisfied: six>=1.12.0 in c:\\python311\\lib\\site-packages (from tensorflow-intel==2.12.0->tensorflow) (1.16.0)\n",
      "Requirement already satisfied: termcolor>=1.1.0 in c:\\python311\\lib\\site-packages (from tensorflow-intel==2.12.0->tensorflow) (2.3.0)\n",
      "Requirement already satisfied: typing-extensions>=3.6.6 in c:\\python311\\lib\\site-packages (from tensorflow-intel==2.12.0->tensorflow) (4.4.0)\n",
      "Requirement already satisfied: wrapt<1.15,>=1.11.0 in c:\\python311\\lib\\site-packages (from tensorflow-intel==2.12.0->tensorflow) (1.14.1)\n",
      "Requirement already satisfied: grpcio<2.0,>=1.24.3 in c:\\python311\\lib\\site-packages (from tensorflow-intel==2.12.0->tensorflow) (1.54.0)\n",
      "Requirement already satisfied: tensorboard<2.13,>=2.12 in c:\\python311\\lib\\site-packages (from tensorflow-intel==2.12.0->tensorflow) (2.12.3)\n",
      "Requirement already satisfied: tensorflow-estimator<2.13,>=2.12.0 in c:\\python311\\lib\\site-packages (from tensorflow-intel==2.12.0->tensorflow) (2.12.0)\n",
      "Requirement already satisfied: keras<2.13,>=2.12.0 in c:\\python311\\lib\\site-packages (from tensorflow-intel==2.12.0->tensorflow) (2.12.0)\n",
      "Requirement already satisfied: tensorflow-io-gcs-filesystem>=0.23.1 in c:\\python311\\lib\\site-packages (from tensorflow-intel==2.12.0->tensorflow) (0.31.0)\n",
      "Requirement already satisfied: wheel<1.0,>=0.23.0 in c:\\python311\\lib\\site-packages (from astunparse>=1.6.0->tensorflow-intel==2.12.0->tensorflow) (0.40.0)\n",
      "Requirement already satisfied: ml-dtypes>=0.0.3 in c:\\python311\\lib\\site-packages (from jax>=0.3.15->tensorflow-intel==2.12.0->tensorflow) (0.1.0)\n",
      "Requirement already satisfied: scipy>=1.7 in c:\\python311\\lib\\site-packages (from jax>=0.3.15->tensorflow-intel==2.12.0->tensorflow) (1.10.1)\n",
      "Requirement already satisfied: google-auth<3,>=1.6.3 in c:\\python311\\lib\\site-packages (from tensorboard<2.13,>=2.12->tensorflow-intel==2.12.0->tensorflow) (2.17.3)\n",
      "Requirement already satisfied: google-auth-oauthlib<1.1,>=0.5 in c:\\python311\\lib\\site-packages (from tensorboard<2.13,>=2.12->tensorflow-intel==2.12.0->tensorflow) (1.0.0)\n",
      "Requirement already satisfied: markdown>=2.6.8 in c:\\python311\\lib\\site-packages (from tensorboard<2.13,>=2.12->tensorflow-intel==2.12.0->tensorflow) (3.4.3)\n",
      "Requirement already satisfied: requests<3,>=2.21.0 in c:\\python311\\lib\\site-packages (from tensorboard<2.13,>=2.12->tensorflow-intel==2.12.0->tensorflow) (2.28.1)\n",
      "Requirement already satisfied: tensorboard-data-server<0.8.0,>=0.7.0 in c:\\python311\\lib\\site-packages (from tensorboard<2.13,>=2.12->tensorflow-intel==2.12.0->tensorflow) (0.7.0)\n",
      "Requirement already satisfied: werkzeug>=1.0.1 in c:\\python311\\lib\\site-packages (from tensorboard<2.13,>=2.12->tensorflow-intel==2.12.0->tensorflow) (2.3.3)\n",
      "Requirement already satisfied: pyparsing!=3.0.5,>=2.0.2 in c:\\python311\\lib\\site-packages (from packaging->tensorflow-intel==2.12.0->tensorflow) (3.0.9)\n",
      "Requirement already satisfied: cachetools<6.0,>=2.0.0 in c:\\python311\\lib\\site-packages (from google-auth<3,>=1.6.3->tensorboard<2.13,>=2.12->tensorflow-intel==2.12.0->tensorflow) (5.2.0)\n",
      "Requirement already satisfied: pyasn1-modules>=0.2.1 in c:\\python311\\lib\\site-packages (from google-auth<3,>=1.6.3->tensorboard<2.13,>=2.12->tensorflow-intel==2.12.0->tensorflow) (0.3.0)\n",
      "Requirement already satisfied: rsa<5,>=3.1.4 in c:\\python311\\lib\\site-packages (from google-auth<3,>=1.6.3->tensorboard<2.13,>=2.12->tensorflow-intel==2.12.0->tensorflow) (4.9)\n",
      "Requirement already satisfied: requests-oauthlib>=0.7.0 in c:\\python311\\lib\\site-packages (from google-auth-oauthlib<1.1,>=0.5->tensorboard<2.13,>=2.12->tensorflow-intel==2.12.0->tensorflow) (1.3.1)\n",
      "Requirement already satisfied: charset-normalizer<3,>=2 in c:\\python311\\lib\\site-packages (from requests<3,>=2.21.0->tensorboard<2.13,>=2.12->tensorflow-intel==2.12.0->tensorflow) (2.1.1)\n",
      "Requirement already satisfied: idna<4,>=2.5 in c:\\python311\\lib\\site-packages (from requests<3,>=2.21.0->tensorboard<2.13,>=2.12->tensorflow-intel==2.12.0->tensorflow) (3.4)\n",
      "Requirement already satisfied: urllib3<1.27,>=1.21.1 in c:\\python311\\lib\\site-packages (from requests<3,>=2.21.0->tensorboard<2.13,>=2.12->tensorflow-intel==2.12.0->tensorflow) (1.26.13)\n",
      "Requirement already satisfied: certifi>=2017.4.17 in c:\\python311\\lib\\site-packages (from requests<3,>=2.21.0->tensorboard<2.13,>=2.12->tensorflow-intel==2.12.0->tensorflow) (2022.9.24)\n",
      "Requirement already satisfied: MarkupSafe>=2.1.1 in c:\\python311\\lib\\site-packages (from werkzeug>=1.0.1->tensorboard<2.13,>=2.12->tensorflow-intel==2.12.0->tensorflow) (2.1.1)\n",
      "Requirement already satisfied: pyasn1<0.6.0,>=0.4.6 in c:\\python311\\lib\\site-packages (from pyasn1-modules>=0.2.1->google-auth<3,>=1.6.3->tensorboard<2.13,>=2.12->tensorflow-intel==2.12.0->tensorflow) (0.5.0)\n",
      "Requirement already satisfied: oauthlib>=3.0.0 in c:\\python311\\lib\\site-packages (from requests-oauthlib>=0.7.0->google-auth-oauthlib<1.1,>=0.5->tensorboard<2.13,>=2.12->tensorflow-intel==2.12.0->tensorflow) (3.2.2)\n",
      "Note: you may need to restart the kernel to use updated packages.\n"
     ]
    },
    {
     "name": "stderr",
     "output_type": "stream",
     "text": [
      "\n",
      "[notice] A new release of pip available: 22.3 -> 23.1.2\n",
      "[notice] To update, run: python.exe -m pip install --upgrade pip\n"
     ]
    }
   ],
   "source": [
    "pip install tensorflow"
   ]
  },
  {
   "cell_type": "code",
   "execution_count": 2,
   "metadata": {},
   "outputs": [
    {
     "name": "stdout",
     "output_type": "stream",
     "text": [
      "Note: you may need to restart the kernel to use updated packages.Requirement already satisfied: keras in c:\\python311\\lib\\site-packages (2.12.0)\n",
      "\n"
     ]
    },
    {
     "name": "stderr",
     "output_type": "stream",
     "text": [
      "\n",
      "[notice] A new release of pip available: 22.3 -> 23.1.2\n",
      "[notice] To update, run: python.exe -m pip install --upgrade pip\n"
     ]
    }
   ],
   "source": [
    "pip install keras\n"
   ]
  },
  {
   "cell_type": "code",
   "execution_count": 1,
   "metadata": {},
   "outputs": [],
   "source": [
    "import pandas as pd\n",
    "from keras.models import Sequential\n",
    "from keras.layers import Dense\n",
    "from sklearn.model_selection import train_test_split\n",
    "import pickle\n",
    "import matplotlib.pyplot as plt\n",
    "from sklearn.metrics import ConfusionMatrixDisplay\n",
    "from sklearn.metrics.cluster import contingency_matrix"
   ]
  },
  {
   "attachments": {},
   "cell_type": "markdown",
   "metadata": {},
   "source": [
    "Lectura de datos"
   ]
  },
  {
   "cell_type": "code",
   "execution_count": 2,
   "metadata": {},
   "outputs": [],
   "source": [
    "df= pd.read_csv('./df1.csv')"
   ]
  },
  {
   "cell_type": "code",
   "execution_count": 3,
   "metadata": {},
   "outputs": [
    {
     "data": {
      "text/html": [
       "<div>\n",
       "<style scoped>\n",
       "    .dataframe tbody tr th:only-of-type {\n",
       "        vertical-align: middle;\n",
       "    }\n",
       "\n",
       "    .dataframe tbody tr th {\n",
       "        vertical-align: top;\n",
       "    }\n",
       "\n",
       "    .dataframe thead th {\n",
       "        text-align: right;\n",
       "    }\n",
       "</style>\n",
       "<table border=\"1\" class=\"dataframe\">\n",
       "  <thead>\n",
       "    <tr style=\"text-align: right;\">\n",
       "      <th></th>\n",
       "      <th>Anion gap</th>\n",
       "      <th>Bicarbonate</th>\n",
       "      <th>Leucocyte</th>\n",
       "      <th>Urea nitrogen</th>\n",
       "      <th>Blood calcium</th>\n",
       "      <th>Urine output</th>\n",
       "      <th>RDW</th>\n",
       "      <th>INR</th>\n",
       "      <th>Blood potassium</th>\n",
       "      <th>heart rate</th>\n",
       "      <th>Renal failure</th>\n",
       "      <th>outcome</th>\n",
       "    </tr>\n",
       "  </thead>\n",
       "  <tbody>\n",
       "    <tr>\n",
       "      <th>0</th>\n",
       "      <td>0.346185</td>\n",
       "      <td>0.238714</td>\n",
       "      <td>0.116783</td>\n",
       "      <td>0.285453</td>\n",
       "      <td>0.179679</td>\n",
       "      <td>0.244331</td>\n",
       "      <td>0.243564</td>\n",
       "      <td>0.017208</td>\n",
       "      <td>0.509346</td>\n",
       "      <td>0.329339</td>\n",
       "      <td>1</td>\n",
       "      <td>0</td>\n",
       "    </tr>\n",
       "    <tr>\n",
       "      <th>1</th>\n",
       "      <td>0.254886</td>\n",
       "      <td>0.591427</td>\n",
       "      <td>0.195514</td>\n",
       "      <td>0.095760</td>\n",
       "      <td>0.344118</td>\n",
       "      <td>0.161565</td>\n",
       "      <td>0.128005</td>\n",
       "      <td>0.101003</td>\n",
       "      <td>0.406542</td>\n",
       "      <td>0.655616</td>\n",
       "      <td>0</td>\n",
       "      <td>0</td>\n",
       "    </tr>\n",
       "    <tr>\n",
       "      <th>2</th>\n",
       "      <td>0.178313</td>\n",
       "      <td>0.508892</td>\n",
       "      <td>0.083217</td>\n",
       "      <td>0.182233</td>\n",
       "      <td>0.368627</td>\n",
       "      <td>0.274943</td>\n",
       "      <td>0.691648</td>\n",
       "      <td>0.010516</td>\n",
       "      <td>0.792056</td>\n",
       "      <td>0.364244</td>\n",
       "      <td>1</td>\n",
       "      <td>0</td>\n",
       "    </tr>\n",
       "    <tr>\n",
       "      <th>3</th>\n",
       "      <td>0.303270</td>\n",
       "      <td>0.738714</td>\n",
       "      <td>0.125677</td>\n",
       "      <td>0.063485</td>\n",
       "      <td>0.653394</td>\n",
       "      <td>0.993197</td>\n",
       "      <td>0.291762</td>\n",
       "      <td>0.240280</td>\n",
       "      <td>0.388785</td>\n",
       "      <td>0.586711</td>\n",
       "      <td>0</td>\n",
       "      <td>0</td>\n",
       "    </tr>\n",
       "    <tr>\n",
       "      <th>4</th>\n",
       "      <td>0.452209</td>\n",
       "      <td>0.262654</td>\n",
       "      <td>0.135086</td>\n",
       "      <td>0.240694</td>\n",
       "      <td>0.478431</td>\n",
       "      <td>0.505102</td>\n",
       "      <td>0.246315</td>\n",
       "      <td>0.101003</td>\n",
       "      <td>0.500000</td>\n",
       "      <td>0.320134</td>\n",
       "      <td>1</td>\n",
       "      <td>0</td>\n",
       "    </tr>\n",
       "    <tr>\n",
       "      <th>...</th>\n",
       "      <td>...</td>\n",
       "      <td>...</td>\n",
       "      <td>...</td>\n",
       "      <td>...</td>\n",
       "      <td>...</td>\n",
       "      <td>...</td>\n",
       "      <td>...</td>\n",
       "      <td>...</td>\n",
       "      <td>...</td>\n",
       "      <td>...</td>\n",
       "      <td>...</td>\n",
       "      <td>...</td>\n",
       "    </tr>\n",
       "    <tr>\n",
       "      <th>1171</th>\n",
       "      <td>0.716007</td>\n",
       "      <td>0.426813</td>\n",
       "      <td>0.118219</td>\n",
       "      <td>0.272665</td>\n",
       "      <td>0.840336</td>\n",
       "      <td>0.215337</td>\n",
       "      <td>0.204483</td>\n",
       "      <td>0.043977</td>\n",
       "      <td>0.716956</td>\n",
       "      <td>0.643126</td>\n",
       "      <td>1</td>\n",
       "      <td>0</td>\n",
       "    </tr>\n",
       "    <tr>\n",
       "      <th>1172</th>\n",
       "      <td>0.610892</td>\n",
       "      <td>0.218988</td>\n",
       "      <td>0.343528</td>\n",
       "      <td>0.186344</td>\n",
       "      <td>0.899654</td>\n",
       "      <td>0.215337</td>\n",
       "      <td>0.388173</td>\n",
       "      <td>0.109943</td>\n",
       "      <td>0.426168</td>\n",
       "      <td>0.788700</td>\n",
       "      <td>1</td>\n",
       "      <td>0</td>\n",
       "    </tr>\n",
       "    <tr>\n",
       "      <th>1173</th>\n",
       "      <td>0.390361</td>\n",
       "      <td>0.459644</td>\n",
       "      <td>0.141200</td>\n",
       "      <td>0.160311</td>\n",
       "      <td>0.415686</td>\n",
       "      <td>0.013379</td>\n",
       "      <td>0.306397</td>\n",
       "      <td>0.030593</td>\n",
       "      <td>0.308411</td>\n",
       "      <td>0.167689</td>\n",
       "      <td>1</td>\n",
       "      <td>0</td>\n",
       "    </tr>\n",
       "    <tr>\n",
       "      <th>1174</th>\n",
       "      <td>0.483133</td>\n",
       "      <td>0.330882</td>\n",
       "      <td>0.092227</td>\n",
       "      <td>0.192738</td>\n",
       "      <td>0.349020</td>\n",
       "      <td>0.293084</td>\n",
       "      <td>0.230593</td>\n",
       "      <td>0.082218</td>\n",
       "      <td>0.306075</td>\n",
       "      <td>0.575679</td>\n",
       "      <td>1</td>\n",
       "      <td>0</td>\n",
       "    </tr>\n",
       "    <tr>\n",
       "      <th>1175</th>\n",
       "      <td>0.723580</td>\n",
       "      <td>0.393981</td>\n",
       "      <td>0.108275</td>\n",
       "      <td>0.251656</td>\n",
       "      <td>0.561345</td>\n",
       "      <td>0.215337</td>\n",
       "      <td>0.239858</td>\n",
       "      <td>0.259799</td>\n",
       "      <td>0.624833</td>\n",
       "      <td>0.313814</td>\n",
       "      <td>1</td>\n",
       "      <td>0</td>\n",
       "    </tr>\n",
       "  </tbody>\n",
       "</table>\n",
       "<p>1176 rows × 12 columns</p>\n",
       "</div>"
      ],
      "text/plain": [
       "      Anion gap  Bicarbonate  Leucocyte  Urea nitrogen  Blood calcium  \\\n",
       "0      0.346185     0.238714   0.116783       0.285453       0.179679   \n",
       "1      0.254886     0.591427   0.195514       0.095760       0.344118   \n",
       "2      0.178313     0.508892   0.083217       0.182233       0.368627   \n",
       "3      0.303270     0.738714   0.125677       0.063485       0.653394   \n",
       "4      0.452209     0.262654   0.135086       0.240694       0.478431   \n",
       "...         ...          ...        ...            ...            ...   \n",
       "1171   0.716007     0.426813   0.118219       0.272665       0.840336   \n",
       "1172   0.610892     0.218988   0.343528       0.186344       0.899654   \n",
       "1173   0.390361     0.459644   0.141200       0.160311       0.415686   \n",
       "1174   0.483133     0.330882   0.092227       0.192738       0.349020   \n",
       "1175   0.723580     0.393981   0.108275       0.251656       0.561345   \n",
       "\n",
       "      Urine output       RDW       INR  Blood potassium  heart rate  \\\n",
       "0         0.244331  0.243564  0.017208         0.509346    0.329339   \n",
       "1         0.161565  0.128005  0.101003         0.406542    0.655616   \n",
       "2         0.274943  0.691648  0.010516         0.792056    0.364244   \n",
       "3         0.993197  0.291762  0.240280         0.388785    0.586711   \n",
       "4         0.505102  0.246315  0.101003         0.500000    0.320134   \n",
       "...            ...       ...       ...              ...         ...   \n",
       "1171      0.215337  0.204483  0.043977         0.716956    0.643126   \n",
       "1172      0.215337  0.388173  0.109943         0.426168    0.788700   \n",
       "1173      0.013379  0.306397  0.030593         0.308411    0.167689   \n",
       "1174      0.293084  0.230593  0.082218         0.306075    0.575679   \n",
       "1175      0.215337  0.239858  0.259799         0.624833    0.313814   \n",
       "\n",
       "      Renal failure  outcome  \n",
       "0                 1        0  \n",
       "1                 0        0  \n",
       "2                 1        0  \n",
       "3                 0        0  \n",
       "4                 1        0  \n",
       "...             ...      ...  \n",
       "1171              1        0  \n",
       "1172              1        0  \n",
       "1173              1        0  \n",
       "1174              1        0  \n",
       "1175              1        0  \n",
       "\n",
       "[1176 rows x 12 columns]"
      ]
     },
     "execution_count": 3,
     "metadata": {},
     "output_type": "execute_result"
    }
   ],
   "source": [
    "df"
   ]
  },
  {
   "cell_type": "code",
   "execution_count": 6,
   "metadata": {},
   "outputs": [],
   "source": [
    "target = ['outcome']\n",
    "X = df.iloc[:,~df.columns.isin(target)].values\n",
    "y = df.outcome"
   ]
  },
  {
   "cell_type": "code",
   "execution_count": 9,
   "metadata": {},
   "outputs": [],
   "source": [
    "X_train, X_test, y_train, y_test = train_test_split(X, y, train_size=0.7)"
   ]
  },
  {
   "cell_type": "code",
   "execution_count": 13,
   "metadata": {},
   "outputs": [
    {
     "name": "stdout",
     "output_type": "stream",
     "text": [
      "Accuracy: 86.40\n"
     ]
    }
   ],
   "source": [
    "# Definición del modelo 1\n",
    "model1 = Sequential()\n",
    "model1.add(Dense(10, input_dim=11, activation='relu')) # Capa de entrada\n",
    "model1.add(Dense(1, activation='relu')) # Capa oculta\n",
    "model1.add(Dense(1, activation='sigmoid')) # Capa de salida con función sigmoide\n",
    "\n",
    "# Compilación del modelo\n",
    "model1.compile(loss='binary_crossentropy', optimizer='adam', metrics=['Accuracy'])\n",
    "\n",
    "# Entrenamiento del modelo\n",
    "model1.fit(X_train, y_train, epochs=50, batch_size=10, verbose=0)\n",
    "\n",
    "# Evaluación del modelo\n",
    "loss, accuracy = model1.evaluate(X_test, y_test, verbose=0)\n",
    "print('Accuracy: %.2f' % (accuracy*100))\n",
    "\n"
   ]
  },
  {
   "cell_type": "code",
   "execution_count": 16,
   "metadata": {},
   "outputs": [
    {
     "name": "stdout",
     "output_type": "stream",
     "text": [
      "Accuracy: 86.69\n"
     ]
    }
   ],
   "source": [
    "# Definición del modelo 2\n",
    "model2 = Sequential()\n",
    "model2.add(Dense(20, input_dim=11, activation='relu')) # Capa de entrada\n",
    "model2.add(Dense(4, activation='relu')) # Capa oculta\n",
    "model2.add(Dense(1, activation='sigmoid')) # Capa de salida con función sigmoide\n",
    "\n",
    "# Compilación del modelo\n",
    "model2.compile(loss='binary_crossentropy', optimizer='adam', metrics=['Accuracy'])\n",
    "\n",
    "# Entrenamiento del modelo\n",
    "model2.fit(X_train, y_train, epochs=50, batch_size=10, verbose=0)\n",
    "\n",
    "# Evaluación del modelo\n",
    "loss, accuracy = model2.evaluate(X_test, y_test, verbose=0)\n",
    "print('Accuracy: %.2f' % (accuracy*100))"
   ]
  },
  {
   "cell_type": "code",
   "execution_count": 17,
   "metadata": {},
   "outputs": [
    {
     "name": "stdout",
     "output_type": "stream",
     "text": [
      "Accuracy: 86.12\n"
     ]
    }
   ],
   "source": [
    "# Definición del modelo\n",
    "model3 = Sequential()\n",
    "model3.add(Dense(30, input_dim=11, activation='relu')) # Capa de entrada\n",
    "model3.add(Dense(3, activation='relu')) # Capa oculta\n",
    "model3.add(Dense(1, activation='sigmoid')) # Capa de salida con función sigmoide\n",
    "\n",
    "# Compilación del modelo\n",
    "model3.compile(loss='binary_crossentropy', optimizer='rmsprop', metrics=['Accuracy'])\n",
    "\n",
    "# Entrenamiento del modelo\n",
    "model3.fit(X_train, y_train, epochs=50, batch_size=10, verbose=0)\n",
    "\n",
    "# Evaluación del modelo\n",
    "loss, accuracy = model3.evaluate(X_test, y_test, verbose=0)\n",
    "print('Accuracy: %.2f' % (accuracy*100))"
   ]
  },
  {
   "cell_type": "code",
   "execution_count": 25,
   "metadata": {},
   "outputs": [
    {
     "name": "stdout",
     "output_type": "stream",
     "text": [
      "Accuracy: 85.55\n"
     ]
    }
   ],
   "source": [
    "# Definición del modelo\n",
    "model4 = Sequential()\n",
    "model4.add(Dense(6, input_dim=11, activation='relu')) # Capa de entrada\n",
    "model4.add(Dense(3, activation='relu')) # Capa oculta\n",
    "model4.add(Dense(1, activation='sigmoid')) # Capa de salida con función sigmoide\n",
    "\n",
    "# Compilación del modelo\n",
    "model4.compile(loss='binary_crossentropy', optimizer='rmsprop', metrics=['Accuracy'])\n",
    "\n",
    "# Entrenamiento del modelo\n",
    "model4.fit(X_train, y_train, epochs=50, batch_size=10, verbose=0)\n",
    "\n",
    "# Evaluación del modelo\n",
    "loss, accuracy = model4.evaluate(X_test, y_test, verbose=0)\n",
    "print('Accuracy: %.2f' % (accuracy*100))"
   ]
  },
  {
   "cell_type": "code",
   "execution_count": 27,
   "metadata": {},
   "outputs": [
    {
     "name": "stdout",
     "output_type": "stream",
     "text": [
      "Accuracy: 87.82\n"
     ]
    }
   ],
   "source": [
    "# Definición del modelo\n",
    "model5 = Sequential()\n",
    "model5.add(Dense(4, input_dim=11, activation='relu')) # Capa de entrada\n",
    "model5.add(Dense(1, activation='relu')) # Capa oculta\n",
    "model5.add(Dense(1, activation='sigmoid')) # Capa de salida con función sigmoide\n",
    "\n",
    "# Compilación del modelo\n",
    "model5.compile(loss='binary_crossentropy', optimizer='adam', metrics=['Accuracy'])\n",
    "\n",
    "# Entrenamiento del modelo\n",
    "model5.fit(X_train, y_train, epochs=50, batch_size=10, verbose=0)\n",
    "\n",
    "# Evaluación del modelo\n",
    "loss, accuracy = model5.evaluate(X_test, y_test, verbose=0)\n",
    "print('Accuracy: %.2f' % (accuracy*100))"
   ]
  },
  {
   "cell_type": "code",
   "execution_count": 28,
   "metadata": {},
   "outputs": [
    {
     "name": "stdout",
     "output_type": "stream",
     "text": [
      "Accuracy: 86.97\n"
     ]
    }
   ],
   "source": [
    "# Definición del modelo\n",
    "model6 = Sequential()\n",
    "model6.add(Dense(6, input_dim=11, activation='relu')) # Capa de entrada\n",
    "model6.add(Dense(1, activation='relu')) # Capa oculta\n",
    "model6.add(Dense(1, activation='sigmoid')) # Capa de salida con función sigmoide\n",
    "\n",
    "# Compilación del modelo\n",
    "model6.compile(loss='binary_crossentropy', optimizer='adam', metrics=['Accuracy'])\n",
    "\n",
    "# Entrenamiento del modelo\n",
    "model6.fit(X_train, y_train, epochs=50, batch_size=10, verbose=0)\n",
    "\n",
    "# Evaluación del modelo\n",
    "loss, accuracy = model6.evaluate(X_test, y_test, verbose=0)\n",
    "print('Accuracy: %.2f' % (accuracy*100))"
   ]
  },
  {
   "attachments": {},
   "cell_type": "markdown",
   "metadata": {},
   "source": [
    "Guardar modelo seleccionado"
   ]
  },
  {
   "cell_type": "code",
   "execution_count": 30,
   "metadata": {},
   "outputs": [],
   "source": [
    "# Se guarda el modelo como archivo binario\n",
    "nombreArchivo = \"./modelo.pkl\"\n",
    "pickle.dump(model5, open(nombreArchivo, 'wb'))"
   ]
  },
  {
   "cell_type": "code",
   "execution_count": 31,
   "metadata": {},
   "outputs": [],
   "source": [
    "# Se carga el modelo\n",
    "LoadedModel = pickle.load(open(nombreArchivo, 'rb'))"
   ]
  },
  {
   "attachments": {},
   "cell_type": "markdown",
   "metadata": {},
   "source": [
    "Predicción"
   ]
  },
  {
   "cell_type": "code",
   "execution_count": 35,
   "metadata": {},
   "outputs": [
    {
     "name": "stdout",
     "output_type": "stream",
     "text": [
      "12/12 [==============================] - 0s 1ms/step\n"
     ]
    }
   ],
   "source": [
    "# Se realiza la predicción\n",
    "prediccion = LoadedModel.predict(X_test)"
   ]
  },
  {
   "attachments": {},
   "cell_type": "markdown",
   "metadata": {},
   "source": [
    "Matrix de confusion"
   ]
  },
  {
   "cell_type": "code",
   "execution_count": 34,
   "metadata": {},
   "outputs": [
    {
     "data": {
      "image/png": "[encoded data removed]",
      "text/plain": [
       "<Figure size 640x480 with 2 Axes>"
      ]
     },
     "metadata": {},
     "output_type": "display_data"
    }
   ],
   "source": [
    "# Matrix de confusion para el modelo \n",
    "cm = contingency_matrix(y_test, prediccion)\n",
    "display = ConfusionMatrixDisplay(confusion_matrix = cm)\n",
    "display.plot()\n",
    "plt.show()"
   ]
  }
 ],
 "metadata": {
  "kernelspec": {
   "display_name": "Python 3",
   "language": "python",
   "name": "python3"
  },
  "language_info": {
   "codemirror_mode": {
    "name": "ipython",
    "version": 3
   },
   "file_extension": ".py",
   "mimetype": "text/x-python",
   "name": "python",
   "nbconvert_exporter": "python",
   "pygments_lexer": "ipython3",
   "version": "3.11.0"
  },
  "orig_nbformat": 4
 },
 "nbformat": 4,
 "nbformat_minor": 2
}
